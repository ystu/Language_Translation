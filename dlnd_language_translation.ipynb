{
 "cells": [
  {
   "cell_type": "markdown",
   "metadata": {
    "collapsed": true,
    "deletable": true,
    "editable": true
   },
   "source": [
    "# Language Translation\n",
    "In this project, you’re going to take a peek into the realm of neural network machine translation.  You’ll be training a sequence to sequence model on a dataset of English and French sentences that can translate new sentences from English to French.\n",
    "## Get the Data\n",
    "Since translating the whole language of English to French will take lots of time to train, we have provided you with a small portion of the English corpus."
   ]
  },
  {
   "cell_type": "code",
   "execution_count": null,
   "metadata": {
    "collapsed": true,
    "deletable": true,
    "editable": true
   },
   "outputs": [],
   "source": [
    "\"\"\"\n",
    "DON'T MODIFY ANYTHING IN THIS CELL\n",
    "\"\"\"\n",
    "import helper\n",
    "import problem_unittests as tests\n",
    "\n",
    "source_path = 'data/small_vocab_en'\n",
    "target_path = 'data/small_vocab_fr'\n",
    "source_text = helper.load_data(source_path)\n",
    "target_text = helper.load_data(target_path)"
   ]
  },
  {
   "cell_type": "markdown",
   "metadata": {
    "deletable": true,
    "editable": true
   },
   "source": [
    "## Explore the Data\n",
    "Play around with view_sentence_range to view different parts of the data."
   ]
  },
  {
   "cell_type": "code",
   "execution_count": null,
   "metadata": {
    "collapsed": false,
    "deletable": true,
    "editable": true
   },
   "outputs": [],
   "source": [
    "view_sentence_range = (0, 10)\n",
    "\n",
    "\"\"\"\n",
    "DON'T MODIFY ANYTHING IN THIS CELL\n",
    "\"\"\"\n",
    "import numpy as np\n",
    "\n",
    "print('Dataset Stats')\n",
    "print('Roughly the number of unique words: {}'.format(len({word: None for word in source_text.split()})))\n",
    "\n",
    "sentences = source_text.split('\\n')\n",
    "word_counts = [len(sentence.split()) for sentence in sentences]\n",
    "print('Number of sentences: {}'.format(len(sentences)))\n",
    "print('Average number of words in a sentence: {}'.format(np.average(word_counts)))\n",
    "\n",
    "print()\n",
    "print('English sentences {} to {}:'.format(*view_sentence_range))\n",
    "print('\\n'.join(source_text.split('\\n')[view_sentence_range[0]:view_sentence_range[1]]))\n",
    "print()\n",
    "print('French sentences {} to {}:'.format(*view_sentence_range))\n",
    "print('\\n'.join(target_text.split('\\n')[view_sentence_range[0]:view_sentence_range[1]]))"
   ]
  },
  {
   "cell_type": "markdown",
   "metadata": {
    "deletable": true,
    "editable": true
   },
   "source": [
    "## Implement Preprocessing Function\n",
    "### Text to Word Ids\n",
    "As you did with other RNNs, you must turn the text into a number so the computer can understand it. In the function `text_to_ids()`, you'll turn `source_text` and `target_text` from words to ids.  However, you need to add the `<EOS>` word id at the end of `target_text`.  This will help the neural network predict when the sentence should end.\n",
    "\n",
    "You can get the `<EOS>` word id by doing:\n",
    "```python\n",
    "target_vocab_to_int['<EOS>']\n",
    "```\n",
    "You can get other word ids using `source_vocab_to_int` and `target_vocab_to_int`."
   ]
  },
  {
   "cell_type": "code",
   "execution_count": null,
   "metadata": {
    "collapsed": false,
    "deletable": true,
    "editable": true
   },
   "outputs": [],
   "source": [
    "def text_to_ids(source_text, target_text, source_vocab_to_int, target_vocab_to_int):\n",
    "    \"\"\"\n",
    "    Convert source and target text to proper word ids\n",
    "    :param source_text: String that contains all the source text.\n",
    "    :param target_text: String that contains all the target text.\n",
    "    :param source_vocab_to_int: Dictionary to go from the source words to an id\n",
    "    :param target_vocab_to_int: Dictionary to go from the target words to an id\n",
    "    :return: A tuple of lists (source_id_text, target_id_text)\n",
    "    \"\"\"\n",
    "    # TODO: Implement Function\n",
    "    source_text_id = []\n",
    "    target_text_id = []\n",
    "    \n",
    "    # source text\n",
    "    for sentence in source_text.split('\\n'):\n",
    "        ids = [source_vocab_to_int[word] for word in sentence.split()]\n",
    "        source_text_id.append(ids)\n",
    "    print(source_text_id)\n",
    "    \n",
    "    # target_text\n",
    "    for sentence in target_text.split('\\n'):\n",
    "        ids = [target_vocab_to_int[word] for word in sentence.split()] + [target_vocab_to_int['<EOS>']]\n",
    "        target_text_id.append(ids)\n",
    "    print(target_text_id)    \n",
    "    \n",
    "    \n",
    "    return source_text_id, target_text_id\n",
    "\n",
    "\"\"\"\n",
    "DON'T MODIFY ANYTHING IN THIS CELL THAT IS BELOW THIS LINE\n",
    "\"\"\"\n",
    "tests.test_text_to_ids(text_to_ids)"
   ]
  },
  {
   "cell_type": "markdown",
   "metadata": {
    "deletable": true,
    "editable": true
   },
   "source": [
    "### Preprocess all the data and save it\n",
    "Running the code cell below will preprocess all the data and save it to file."
   ]
  },
  {
   "cell_type": "code",
   "execution_count": null,
   "metadata": {
    "collapsed": false,
    "deletable": true,
    "editable": true
   },
   "outputs": [],
   "source": [
    "\"\"\"\n",
    "DON'T MODIFY ANYTHING IN THIS CELL\n",
    "\"\"\"\n",
    "helper.preprocess_and_save_data(source_path, target_path, text_to_ids)"
   ]
  },
  {
   "cell_type": "markdown",
   "metadata": {
    "deletable": true,
    "editable": true
   },
   "source": [
    "# Check Point\n",
    "This is your first checkpoint. If you ever decide to come back to this notebook or have to restart the notebook, you can start from here. The preprocessed data has been saved to disk."
   ]
  },
  {
   "cell_type": "code",
   "execution_count": 1,
   "metadata": {
    "collapsed": true,
    "deletable": true,
    "editable": true
   },
   "outputs": [],
   "source": [
    "\"\"\"\n",
    "DON'T MODIFY ANYTHING IN THIS CELL\n",
    "\"\"\"\n",
    "import numpy as np\n",
    "import helper\n",
    "import problem_unittests as tests\n",
    "\n",
    "(source_int_text, target_int_text), (source_vocab_to_int, target_vocab_to_int), _ = helper.load_preprocess()"
   ]
  },
  {
   "cell_type": "markdown",
   "metadata": {
    "deletable": true,
    "editable": true
   },
   "source": [
    "### Check the Version of TensorFlow and Access to GPU\n",
    "This will check to make sure you have the correct version of TensorFlow and access to a GPU"
   ]
  },
  {
   "cell_type": "code",
   "execution_count": 2,
   "metadata": {
    "collapsed": false,
    "deletable": true,
    "editable": true
   },
   "outputs": [
    {
     "name": "stdout",
     "output_type": "stream",
     "text": [
      "TensorFlow Version: 1.2.1\n",
      "Default GPU Device: /gpu:0\n"
     ]
    }
   ],
   "source": [
    "\"\"\"\n",
    "DON'T MODIFY ANYTHING IN THIS CELL\n",
    "\"\"\"\n",
    "from distutils.version import LooseVersion\n",
    "import warnings\n",
    "import tensorflow as tf\n",
    "from tensorflow.python.layers.core import Dense\n",
    "\n",
    "# Check TensorFlow Version\n",
    "assert LooseVersion(tf.__version__) >= LooseVersion('1.1'), 'Please use TensorFlow version 1.1 or newer'\n",
    "print('TensorFlow Version: {}'.format(tf.__version__))\n",
    "\n",
    "# Check for a GPU\n",
    "if not tf.test.gpu_device_name():\n",
    "    warnings.warn('No GPU found. Please use a GPU to train your neural network.')\n",
    "else:\n",
    "    print('Default GPU Device: {}'.format(tf.test.gpu_device_name()))"
   ]
  },
  {
   "cell_type": "markdown",
   "metadata": {
    "deletable": true,
    "editable": true
   },
   "source": [
    "## Build the Neural Network\n",
    "You'll build the components necessary to build a Sequence-to-Sequence model by implementing the following functions below:\n",
    "- `model_inputs`\n",
    "- `process_decoder_input`\n",
    "- `encoding_layer`\n",
    "- `decoding_layer_train`\n",
    "- `decoding_layer_infer`\n",
    "- `decoding_layer`\n",
    "- `seq2seq_model`\n",
    "\n",
    "### Input\n",
    "Implement the `model_inputs()` function to create TF Placeholders for the Neural Network. It should create the following placeholders:\n",
    "\n",
    "- Input text placeholder named \"input\" using the TF Placeholder name parameter with rank 2.\n",
    "- Targets placeholder with rank 2.\n",
    "- Learning rate placeholder with rank 0.\n",
    "- Keep probability placeholder named \"keep_prob\" using the TF Placeholder name parameter with rank 0.\n",
    "- Target sequence length placeholder named \"target_sequence_length\" with rank 1\n",
    "- Max target sequence length tensor named \"max_target_len\" getting its value from applying tf.reduce_max on the target_sequence_length placeholder. Rank 0.\n",
    "- Source sequence length placeholder named \"source_sequence_length\" with rank 1\n",
    "\n",
    "Return the placeholders in the following the tuple (input, targets, learning rate, keep probability, target sequence length, max target sequence length, source sequence length)"
   ]
  },
  {
   "cell_type": "code",
   "execution_count": 3,
   "metadata": {
    "collapsed": false,
    "deletable": true,
    "editable": true
   },
   "outputs": [
    {
     "name": "stdout",
     "output_type": "stream",
     "text": [
      "ERROR:tensorflow:==================================\n",
      "Object was never used (type <class 'tensorflow.python.framework.ops.Operation'>):\n",
      "<tf.Operation 'assert_rank_2/Assert/Assert' type=Assert>\n",
      "If you want to mark it as used call its \"mark_used()\" method.\n",
      "It was originally created here:\n",
      "['File \"/home/carnd/anaconda3/envs/tensorflow2/lib/python3.5/runpy.py\", line 184, in _run_module_as_main\\n    \"__main__\", mod_spec)', 'File \"/home/carnd/anaconda3/envs/tensorflow2/lib/python3.5/runpy.py\", line 85, in _run_code\\n    exec(code, run_globals)', 'File \"/home/carnd/anaconda3/envs/tensorflow2/lib/python3.5/site-packages/ipykernel/__main__.py\", line 3, in <module>\\n    app.launch_new_instance()', 'File \"/home/carnd/anaconda3/envs/tensorflow2/lib/python3.5/site-packages/traitlets/config/application.py\", line 658, in launch_instance\\n    app.start()', 'File \"/home/carnd/anaconda3/envs/tensorflow2/lib/python3.5/site-packages/ipykernel/kernelapp.py\", line 474, in start\\n    ioloop.IOLoop.instance().start()', 'File \"/home/carnd/anaconda3/envs/tensorflow2/lib/python3.5/site-packages/zmq/eventloop/ioloop.py\", line 177, in start\\n    super(ZMQIOLoop, self).start()', 'File \"/home/carnd/anaconda3/envs/tensorflow2/lib/python3.5/site-packages/tornado/ioloop.py\", line 887, in start\\n    handler_func(fd_obj, events)', 'File \"/home/carnd/anaconda3/envs/tensorflow2/lib/python3.5/site-packages/tornado/stack_context.py\", line 275, in null_wrapper\\n    return fn(*args, **kwargs)', 'File \"/home/carnd/anaconda3/envs/tensorflow2/lib/python3.5/site-packages/zmq/eventloop/zmqstream.py\", line 440, in _handle_events\\n    self._handle_recv()', 'File \"/home/carnd/anaconda3/envs/tensorflow2/lib/python3.5/site-packages/zmq/eventloop/zmqstream.py\", line 472, in _handle_recv\\n    self._run_callback(callback, msg)', 'File \"/home/carnd/anaconda3/envs/tensorflow2/lib/python3.5/site-packages/zmq/eventloop/zmqstream.py\", line 414, in _run_callback\\n    callback(*args, **kwargs)', 'File \"/home/carnd/anaconda3/envs/tensorflow2/lib/python3.5/site-packages/tornado/stack_context.py\", line 275, in null_wrapper\\n    return fn(*args, **kwargs)', 'File \"/home/carnd/anaconda3/envs/tensorflow2/lib/python3.5/site-packages/ipykernel/kernelbase.py\", line 276, in dispatcher\\n    return self.dispatch_shell(stream, msg)', 'File \"/home/carnd/anaconda3/envs/tensorflow2/lib/python3.5/site-packages/ipykernel/kernelbase.py\", line 228, in dispatch_shell\\n    handler(stream, idents, msg)', 'File \"/home/carnd/anaconda3/envs/tensorflow2/lib/python3.5/site-packages/ipykernel/kernelbase.py\", line 390, in execute_request\\n    user_expressions, allow_stdin)', 'File \"/home/carnd/anaconda3/envs/tensorflow2/lib/python3.5/site-packages/ipykernel/ipkernel.py\", line 196, in do_execute\\n    res = shell.run_cell(code, store_history=store_history, silent=silent)', 'File \"/home/carnd/anaconda3/envs/tensorflow2/lib/python3.5/site-packages/ipykernel/zmqshell.py\", line 501, in run_cell\\n    return super(ZMQInteractiveShell, self).run_cell(*args, **kwargs)', 'File \"/home/carnd/anaconda3/envs/tensorflow2/lib/python3.5/site-packages/IPython/core/interactiveshell.py\", line 2717, in run_cell\\n    interactivity=interactivity, compiler=compiler, result=result)', 'File \"/home/carnd/anaconda3/envs/tensorflow2/lib/python3.5/site-packages/IPython/core/interactiveshell.py\", line 2827, in run_ast_nodes\\n    if self.run_code(code, result):', 'File \"/home/carnd/anaconda3/envs/tensorflow2/lib/python3.5/site-packages/IPython/core/interactiveshell.py\", line 2881, in run_code\\n    exec(code_obj, self.user_global_ns, self.user_ns)', 'File \"<ipython-input-3-48dd553cd166>\", line 22, in <module>\\n    tests.test_model_inputs(model_inputs)', 'File \"/home/carnd/github/Language_Translation/problem_unittests.py\", line 106, in test_model_inputs\\n    assert tf.assert_rank(lr, 0, message=\\'Learning Rate has wrong rank\\')', 'File \"/home/carnd/anaconda3/envs/tensorflow2/lib/python3.5/site-packages/tensorflow/python/ops/check_ops.py\", line 617, in assert_rank\\n    dynamic_condition, data, summarize)', 'File \"/home/carnd/anaconda3/envs/tensorflow2/lib/python3.5/site-packages/tensorflow/python/ops/check_ops.py\", line 571, in _assert_rank_condition\\n    return control_flow_ops.Assert(condition, data, summarize=summarize)', 'File \"/home/carnd/anaconda3/envs/tensorflow2/lib/python3.5/site-packages/tensorflow/python/util/tf_should_use.py\", line 170, in wrapped\\n    return _add_should_use_warning(fn(*args, **kwargs))', 'File \"/home/carnd/anaconda3/envs/tensorflow2/lib/python3.5/site-packages/tensorflow/python/util/tf_should_use.py\", line 139, in _add_should_use_warning\\n    wrapped = TFShouldUseWarningWrapper(x)', 'File \"/home/carnd/anaconda3/envs/tensorflow2/lib/python3.5/site-packages/tensorflow/python/util/tf_should_use.py\", line 96, in __init__\\n    stack = [s.strip() for s in traceback.format_stack()]']\n",
      "==================================\n",
      "ERROR:tensorflow:==================================\n",
      "Object was never used (type <class 'tensorflow.python.framework.ops.Operation'>):\n",
      "<tf.Operation 'assert_rank_3/Assert/Assert' type=Assert>\n",
      "If you want to mark it as used call its \"mark_used()\" method.\n",
      "It was originally created here:\n",
      "['File \"/home/carnd/anaconda3/envs/tensorflow2/lib/python3.5/runpy.py\", line 184, in _run_module_as_main\\n    \"__main__\", mod_spec)', 'File \"/home/carnd/anaconda3/envs/tensorflow2/lib/python3.5/runpy.py\", line 85, in _run_code\\n    exec(code, run_globals)', 'File \"/home/carnd/anaconda3/envs/tensorflow2/lib/python3.5/site-packages/ipykernel/__main__.py\", line 3, in <module>\\n    app.launch_new_instance()', 'File \"/home/carnd/anaconda3/envs/tensorflow2/lib/python3.5/site-packages/traitlets/config/application.py\", line 658, in launch_instance\\n    app.start()', 'File \"/home/carnd/anaconda3/envs/tensorflow2/lib/python3.5/site-packages/ipykernel/kernelapp.py\", line 474, in start\\n    ioloop.IOLoop.instance().start()', 'File \"/home/carnd/anaconda3/envs/tensorflow2/lib/python3.5/site-packages/zmq/eventloop/ioloop.py\", line 177, in start\\n    super(ZMQIOLoop, self).start()', 'File \"/home/carnd/anaconda3/envs/tensorflow2/lib/python3.5/site-packages/tornado/ioloop.py\", line 887, in start\\n    handler_func(fd_obj, events)', 'File \"/home/carnd/anaconda3/envs/tensorflow2/lib/python3.5/site-packages/tornado/stack_context.py\", line 275, in null_wrapper\\n    return fn(*args, **kwargs)', 'File \"/home/carnd/anaconda3/envs/tensorflow2/lib/python3.5/site-packages/zmq/eventloop/zmqstream.py\", line 440, in _handle_events\\n    self._handle_recv()', 'File \"/home/carnd/anaconda3/envs/tensorflow2/lib/python3.5/site-packages/zmq/eventloop/zmqstream.py\", line 472, in _handle_recv\\n    self._run_callback(callback, msg)', 'File \"/home/carnd/anaconda3/envs/tensorflow2/lib/python3.5/site-packages/zmq/eventloop/zmqstream.py\", line 414, in _run_callback\\n    callback(*args, **kwargs)', 'File \"/home/carnd/anaconda3/envs/tensorflow2/lib/python3.5/site-packages/tornado/stack_context.py\", line 275, in null_wrapper\\n    return fn(*args, **kwargs)', 'File \"/home/carnd/anaconda3/envs/tensorflow2/lib/python3.5/site-packages/ipykernel/kernelbase.py\", line 276, in dispatcher\\n    return self.dispatch_shell(stream, msg)', 'File \"/home/carnd/anaconda3/envs/tensorflow2/lib/python3.5/site-packages/ipykernel/kernelbase.py\", line 228, in dispatch_shell\\n    handler(stream, idents, msg)', 'File \"/home/carnd/anaconda3/envs/tensorflow2/lib/python3.5/site-packages/ipykernel/kernelbase.py\", line 390, in execute_request\\n    user_expressions, allow_stdin)', 'File \"/home/carnd/anaconda3/envs/tensorflow2/lib/python3.5/site-packages/ipykernel/ipkernel.py\", line 196, in do_execute\\n    res = shell.run_cell(code, store_history=store_history, silent=silent)', 'File \"/home/carnd/anaconda3/envs/tensorflow2/lib/python3.5/site-packages/ipykernel/zmqshell.py\", line 501, in run_cell\\n    return super(ZMQInteractiveShell, self).run_cell(*args, **kwargs)', 'File \"/home/carnd/anaconda3/envs/tensorflow2/lib/python3.5/site-packages/IPython/core/interactiveshell.py\", line 2717, in run_cell\\n    interactivity=interactivity, compiler=compiler, result=result)', 'File \"/home/carnd/anaconda3/envs/tensorflow2/lib/python3.5/site-packages/IPython/core/interactiveshell.py\", line 2827, in run_ast_nodes\\n    if self.run_code(code, result):', 'File \"/home/carnd/anaconda3/envs/tensorflow2/lib/python3.5/site-packages/IPython/core/interactiveshell.py\", line 2881, in run_code\\n    exec(code_obj, self.user_global_ns, self.user_ns)', 'File \"<ipython-input-3-48dd553cd166>\", line 22, in <module>\\n    tests.test_model_inputs(model_inputs)', 'File \"/home/carnd/github/Language_Translation/problem_unittests.py\", line 107, in test_model_inputs\\n    assert tf.assert_rank(keep_prob, 0, message=\\'Keep Probability has wrong rank\\')', 'File \"/home/carnd/anaconda3/envs/tensorflow2/lib/python3.5/site-packages/tensorflow/python/ops/check_ops.py\", line 617, in assert_rank\\n    dynamic_condition, data, summarize)', 'File \"/home/carnd/anaconda3/envs/tensorflow2/lib/python3.5/site-packages/tensorflow/python/ops/check_ops.py\", line 571, in _assert_rank_condition\\n    return control_flow_ops.Assert(condition, data, summarize=summarize)', 'File \"/home/carnd/anaconda3/envs/tensorflow2/lib/python3.5/site-packages/tensorflow/python/util/tf_should_use.py\", line 170, in wrapped\\n    return _add_should_use_warning(fn(*args, **kwargs))', 'File \"/home/carnd/anaconda3/envs/tensorflow2/lib/python3.5/site-packages/tensorflow/python/util/tf_should_use.py\", line 139, in _add_should_use_warning\\n    wrapped = TFShouldUseWarningWrapper(x)', 'File \"/home/carnd/anaconda3/envs/tensorflow2/lib/python3.5/site-packages/tensorflow/python/util/tf_should_use.py\", line 96, in __init__\\n    stack = [s.strip() for s in traceback.format_stack()]']\n",
      "==================================\n",
      "ERROR:tensorflow:==================================\n",
      "Object was never used (type <class 'tensorflow.python.framework.ops.Operation'>):\n",
      "<tf.Operation 'assert_rank_6/Assert/Assert' type=Assert>\n",
      "If you want to mark it as used call its \"mark_used()\" method.\n",
      "It was originally created here:\n",
      "['File \"/home/carnd/anaconda3/envs/tensorflow2/lib/python3.5/runpy.py\", line 184, in _run_module_as_main\\n    \"__main__\", mod_spec)', 'File \"/home/carnd/anaconda3/envs/tensorflow2/lib/python3.5/runpy.py\", line 85, in _run_code\\n    exec(code, run_globals)', 'File \"/home/carnd/anaconda3/envs/tensorflow2/lib/python3.5/site-packages/ipykernel/__main__.py\", line 3, in <module>\\n    app.launch_new_instance()', 'File \"/home/carnd/anaconda3/envs/tensorflow2/lib/python3.5/site-packages/traitlets/config/application.py\", line 658, in launch_instance\\n    app.start()', 'File \"/home/carnd/anaconda3/envs/tensorflow2/lib/python3.5/site-packages/ipykernel/kernelapp.py\", line 474, in start\\n    ioloop.IOLoop.instance().start()', 'File \"/home/carnd/anaconda3/envs/tensorflow2/lib/python3.5/site-packages/zmq/eventloop/ioloop.py\", line 177, in start\\n    super(ZMQIOLoop, self).start()', 'File \"/home/carnd/anaconda3/envs/tensorflow2/lib/python3.5/site-packages/tornado/ioloop.py\", line 887, in start\\n    handler_func(fd_obj, events)', 'File \"/home/carnd/anaconda3/envs/tensorflow2/lib/python3.5/site-packages/tornado/stack_context.py\", line 275, in null_wrapper\\n    return fn(*args, **kwargs)', 'File \"/home/carnd/anaconda3/envs/tensorflow2/lib/python3.5/site-packages/zmq/eventloop/zmqstream.py\", line 440, in _handle_events\\n    self._handle_recv()', 'File \"/home/carnd/anaconda3/envs/tensorflow2/lib/python3.5/site-packages/zmq/eventloop/zmqstream.py\", line 472, in _handle_recv\\n    self._run_callback(callback, msg)', 'File \"/home/carnd/anaconda3/envs/tensorflow2/lib/python3.5/site-packages/zmq/eventloop/zmqstream.py\", line 414, in _run_callback\\n    callback(*args, **kwargs)', 'File \"/home/carnd/anaconda3/envs/tensorflow2/lib/python3.5/site-packages/tornado/stack_context.py\", line 275, in null_wrapper\\n    return fn(*args, **kwargs)', 'File \"/home/carnd/anaconda3/envs/tensorflow2/lib/python3.5/site-packages/ipykernel/kernelbase.py\", line 276, in dispatcher\\n    return self.dispatch_shell(stream, msg)', 'File \"/home/carnd/anaconda3/envs/tensorflow2/lib/python3.5/site-packages/ipykernel/kernelbase.py\", line 228, in dispatch_shell\\n    handler(stream, idents, msg)', 'File \"/home/carnd/anaconda3/envs/tensorflow2/lib/python3.5/site-packages/ipykernel/kernelbase.py\", line 390, in execute_request\\n    user_expressions, allow_stdin)', 'File \"/home/carnd/anaconda3/envs/tensorflow2/lib/python3.5/site-packages/ipykernel/ipkernel.py\", line 196, in do_execute\\n    res = shell.run_cell(code, store_history=store_history, silent=silent)', 'File \"/home/carnd/anaconda3/envs/tensorflow2/lib/python3.5/site-packages/ipykernel/zmqshell.py\", line 501, in run_cell\\n    return super(ZMQInteractiveShell, self).run_cell(*args, **kwargs)', 'File \"/home/carnd/anaconda3/envs/tensorflow2/lib/python3.5/site-packages/IPython/core/interactiveshell.py\", line 2717, in run_cell\\n    interactivity=interactivity, compiler=compiler, result=result)', 'File \"/home/carnd/anaconda3/envs/tensorflow2/lib/python3.5/site-packages/IPython/core/interactiveshell.py\", line 2827, in run_ast_nodes\\n    if self.run_code(code, result):', 'File \"/home/carnd/anaconda3/envs/tensorflow2/lib/python3.5/site-packages/IPython/core/interactiveshell.py\", line 2881, in run_code\\n    exec(code_obj, self.user_global_ns, self.user_ns)', 'File \"<ipython-input-3-48dd553cd166>\", line 22, in <module>\\n    tests.test_model_inputs(model_inputs)', 'File \"/home/carnd/github/Language_Translation/problem_unittests.py\", line 110, in test_model_inputs\\n    assert tf.assert_rank(source_sequence_length, 1, message=\\'Source Sequence Lengthhas wrong rank\\')', 'File \"/home/carnd/anaconda3/envs/tensorflow2/lib/python3.5/site-packages/tensorflow/python/ops/check_ops.py\", line 617, in assert_rank\\n    dynamic_condition, data, summarize)', 'File \"/home/carnd/anaconda3/envs/tensorflow2/lib/python3.5/site-packages/tensorflow/python/ops/check_ops.py\", line 571, in _assert_rank_condition\\n    return control_flow_ops.Assert(condition, data, summarize=summarize)', 'File \"/home/carnd/anaconda3/envs/tensorflow2/lib/python3.5/site-packages/tensorflow/python/util/tf_should_use.py\", line 170, in wrapped\\n    return _add_should_use_warning(fn(*args, **kwargs))', 'File \"/home/carnd/anaconda3/envs/tensorflow2/lib/python3.5/site-packages/tensorflow/python/util/tf_should_use.py\", line 139, in _add_should_use_warning\\n    wrapped = TFShouldUseWarningWrapper(x)', 'File \"/home/carnd/anaconda3/envs/tensorflow2/lib/python3.5/site-packages/tensorflow/python/util/tf_should_use.py\", line 96, in __init__\\n    stack = [s.strip() for s in traceback.format_stack()]']\n",
      "==================================\n",
      "Tests Passed\n"
     ]
    }
   ],
   "source": [
    "def model_inputs():\n",
    "    \"\"\"\n",
    "    Create TF Placeholders for input, targets, learning rate, and lengths of source and target sequences.\n",
    "    :return: Tuple (input, targets, learning rate, keep probability, target sequence length,\n",
    "    max target sequence length, source sequence length)\n",
    "    \"\"\"\n",
    "    # TODO: Implement Function\n",
    "    input_data = tf.placeholder(tf.int32, [None, None], name='input')\n",
    "    targets = tf.placeholder(tf.int32, [None, None])\n",
    "    lr = tf.placeholder(tf.float32)\n",
    "    keep_prob = tf.placeholder(tf.float32, name='keep_prob')\n",
    "    target_sequence_length = tf.placeholder(tf.int32, [None,], name='target_sequence_length')\n",
    "    max_target_len = tf.reduce_max(target_sequence_length, name='max_target_len')\n",
    "    source_sequence_length = tf.placeholder(tf.int32, name='source_sequence_length')\n",
    "    \n",
    "    return input_data, targets, lr, keep_prob, target_sequence_length, max_target_len, source_sequence_length\n",
    "\n",
    "\n",
    "\"\"\"\n",
    "DON'T MODIFY ANYTHING IN THIS CELL THAT IS BELOW THIS LINE\n",
    "\"\"\"\n",
    "tests.test_model_inputs(model_inputs)"
   ]
  },
  {
   "cell_type": "markdown",
   "metadata": {
    "deletable": true,
    "editable": true
   },
   "source": [
    "### Process Decoder Input\n",
    "Implement `process_decoder_input` by removing the last word id from each batch in `target_data` and concat the GO ID to the begining of each batch."
   ]
  },
  {
   "cell_type": "code",
   "execution_count": 4,
   "metadata": {
    "collapsed": false,
    "deletable": true,
    "editable": true
   },
   "outputs": [
    {
     "name": "stdout",
     "output_type": "stream",
     "text": [
      "Tests Passed\n"
     ]
    }
   ],
   "source": [
    "def process_decoder_input(target_data, target_vocab_to_int, batch_size):\n",
    "    \"\"\"\n",
    "    Preprocess target data for encoding\n",
    "    :param target_data: Target Placehoder\n",
    "    :param target_vocab_to_int: Dictionary to go from the target words to an id\n",
    "    :param batch_size: Batch Size\n",
    "    :return: Preprocessed target data\n",
    "    \"\"\"\n",
    "    # TODO: Implement Function\n",
    "    rm_end = tf.strided_slice(target_data, [0,0], [batch_size, -1], [1,1])\n",
    "    dec_input = tf.concat([tf.fill([batch_size, 1], target_vocab_to_int['<GO>']), rm_end], 1)\n",
    "    \n",
    "    return dec_input\n",
    "\n",
    "\"\"\"\n",
    "DON'T MODIFY ANYTHING IN THIS CELL THAT IS BELOW THIS LINE\n",
    "\"\"\"\n",
    "tests.test_process_encoding_input(process_decoder_input)"
   ]
  },
  {
   "cell_type": "markdown",
   "metadata": {
    "deletable": true,
    "editable": true
   },
   "source": [
    "### Encoding\n",
    "Implement `encoding_layer()` to create a Encoder RNN layer:\n",
    " * Embed the encoder input using [`tf.contrib.layers.embed_sequence`](https://www.tensorflow.org/api_docs/python/tf/contrib/layers/embed_sequence)\n",
    " * Construct a [stacked](https://github.com/tensorflow/tensorflow/blob/6947f65a374ebf29e74bb71e36fd82760056d82c/tensorflow/docs_src/tutorials/recurrent.md#stacking-multiple-lstms) [`tf.contrib.rnn.LSTMCell`](https://www.tensorflow.org/api_docs/python/tf/contrib/rnn/LSTMCell) wrapped in a [`tf.contrib.rnn.DropoutWrapper`](https://www.tensorflow.org/api_docs/python/tf/contrib/rnn/DropoutWrapper)\n",
    " * Pass cell and embedded input to [`tf.nn.dynamic_rnn()`](https://www.tensorflow.org/api_docs/python/tf/nn/dynamic_rnn)"
   ]
  },
  {
   "cell_type": "code",
   "execution_count": 5,
   "metadata": {
    "collapsed": false,
    "deletable": true,
    "editable": true,
    "scrolled": false
   },
   "outputs": [
    {
     "name": "stdout",
     "output_type": "stream",
     "text": [
      "Tests Passed\n"
     ]
    }
   ],
   "source": [
    "from imp import reload\n",
    "reload(tests)\n",
    "\n",
    "def encoding_layer(rnn_inputs, rnn_size, num_layers, keep_prob, \n",
    "                   source_sequence_length, source_vocab_size, \n",
    "                   encoding_embedding_size):\n",
    "    \"\"\"\n",
    "    Create encoding layer\n",
    "    :param rnn_inputs: Inputs for the RNN\n",
    "    :param rnn_size: RNN Size\n",
    "    :param num_layers: Number of layers\n",
    "    :param keep_prob: Dropout keep probability\n",
    "    :param source_sequence_length: a list of the lengths of each sequence in the batch\n",
    "    :param source_vocab_size: vocabulary size of source data\n",
    "    :param encoding_embedding_size: embedding size of source data\n",
    "    :return: tuple (RNN output, RNN state)\n",
    "    \"\"\"\n",
    "    # TODO: Implement Function\n",
    "    enc_embed_input = tf.contrib.layers.embed_sequence(rnn_inputs, source_vocab_size, encoding_embedding_size)\n",
    "    \n",
    "    def make_cell(rnn_size):\n",
    "        enc_cell = tf.contrib.rnn.LSTMCell(rnn_size, initializer=tf.random_normal_initializer(-0.1, 0.1, seed=2))\n",
    "        return enc_cell\n",
    "        \n",
    "    enc_cell = tf.contrib.rnn.MultiRNNCell([make_cell(rnn_size) for _ in range(num_layers)])\n",
    "    \n",
    "    enc_output, enc_state = tf.nn.dynamic_rnn(enc_cell, enc_embed_input, sequence_length=source_sequence_length, dtype=tf.float32)\n",
    "    \n",
    "    return enc_output, enc_state\n",
    "\n",
    "\"\"\"\n",
    "DON'T MODIFY ANYTHING IN THIS CELL THAT IS BELOW THIS LINE\n",
    "\"\"\"\n",
    "tests.test_encoding_layer(encoding_layer)"
   ]
  },
  {
   "cell_type": "markdown",
   "metadata": {
    "deletable": true,
    "editable": true
   },
   "source": [
    "### Decoding - Training\n",
    "Create a training decoding layer:\n",
    "* Create a [`tf.contrib.seq2seq.TrainingHelper`](https://www.tensorflow.org/api_docs/python/tf/contrib/seq2seq/TrainingHelper) \n",
    "* Create a [`tf.contrib.seq2seq.BasicDecoder`](https://www.tensorflow.org/api_docs/python/tf/contrib/seq2seq/BasicDecoder)\n",
    "* Obtain the decoder outputs from [`tf.contrib.seq2seq.dynamic_decode`](https://www.tensorflow.org/api_docs/python/tf/contrib/seq2seq/dynamic_decode)"
   ]
  },
  {
   "cell_type": "code",
   "execution_count": 6,
   "metadata": {
    "collapsed": false,
    "deletable": true,
    "editable": true
   },
   "outputs": [
    {
     "name": "stdout",
     "output_type": "stream",
     "text": [
      "Tests Passed\n"
     ]
    }
   ],
   "source": [
    "\n",
    "def decoding_layer_train(encoder_state, dec_cell, dec_embed_input, \n",
    "                         target_sequence_length, max_summary_length, \n",
    "                         output_layer, keep_prob):\n",
    "    \"\"\"\n",
    "    Create a decoding layer for training\n",
    "    :param encoder_state: Encoder State\n",
    "    :param dec_cell: Decoder RNN Cell\n",
    "    :param dec_embed_input: Decoder embedded input\n",
    "    :param target_sequence_length: The lengths of each sequence in the target batch\n",
    "    :param max_summary_length: The length of the longest sequence in the batch\n",
    "    :param output_layer: Function to apply the output layer\n",
    "    :param keep_prob: Dropout keep probability\n",
    "    :return: BasicDecoderOutput containing training logits and sample_id\n",
    "    \"\"\"\n",
    "    # TODO: Implement Function\n",
    "    \n",
    "    training_helper = tf.contrib.seq2seq.TrainingHelper(inputs=dec_embed_input,\n",
    "                                                        sequence_length=target_sequence_length,\n",
    "                                                        time_major=False)\n",
    "    \n",
    "    training_decoder = tf.contrib.seq2seq.BasicDecoder(dec_cell, \n",
    "                                                       training_helper, \n",
    "                                                       encoder_state, \n",
    "                                                       output_layer)\n",
    "    \n",
    "    training_decoder_output = tf.contrib.seq2seq.dynamic_decode(training_decoder, \n",
    "                                                                impute_finished=True, \n",
    "                                                                maximum_iterations=max_summary_length)[0]\n",
    "      \n",
    "    return training_decoder_output\n",
    "\n",
    "\n",
    "\n",
    "\"\"\"\n",
    "DON'T MODIFY ANYTHING IN THIS CELL THAT IS BELOW THIS LINE\n",
    "\"\"\"\n",
    "tests.test_decoding_layer_train(decoding_layer_train)"
   ]
  },
  {
   "cell_type": "markdown",
   "metadata": {
    "deletable": true,
    "editable": true
   },
   "source": [
    "### Decoding - Inference\n",
    "Create inference decoder:\n",
    "* Create a [`tf.contrib.seq2seq.GreedyEmbeddingHelper`](https://www.tensorflow.org/api_docs/python/tf/contrib/seq2seq/GreedyEmbeddingHelper)\n",
    "* Create a [`tf.contrib.seq2seq.BasicDecoder`](https://www.tensorflow.org/api_docs/python/tf/contrib/seq2seq/BasicDecoder)\n",
    "* Obtain the decoder outputs from [`tf.contrib.seq2seq.dynamic_decode`](https://www.tensorflow.org/api_docs/python/tf/contrib/seq2seq/dynamic_decode)"
   ]
  },
  {
   "cell_type": "code",
   "execution_count": 7,
   "metadata": {
    "collapsed": false,
    "deletable": true,
    "editable": true,
    "scrolled": true
   },
   "outputs": [
    {
     "name": "stdout",
     "output_type": "stream",
     "text": [
      "Tests Passed\n"
     ]
    }
   ],
   "source": [
    "def decoding_layer_infer(encoder_state, dec_cell, dec_embeddings, start_of_sequence_id,\n",
    "                         end_of_sequence_id, max_target_sequence_length,\n",
    "                         vocab_size, output_layer, batch_size, keep_prob):\n",
    "    \"\"\"\n",
    "    Create a decoding layer for inference\n",
    "    :param encoder_state: Encoder state\n",
    "    :param dec_cell: Decoder RNN Cell\n",
    "    :param dec_embeddings: Decoder embeddings\n",
    "    :param start_of_sequence_id: GO ID\n",
    "    :param end_of_sequence_id: EOS Id\n",
    "    :param max_target_sequence_length: Maximum length of target sequences\n",
    "    :param vocab_size: Size of decoder/target vocabulary\n",
    "    :param decoding_scope: TenorFlow Variable Scope for decoding\n",
    "    :param output_layer: Function to apply the output layer\n",
    "    :param batch_size: Batch size\n",
    "    :param keep_prob: Dropout keep probability\n",
    "    :return: BasicDecoderOutput containing inference logits and sample_id\n",
    "    \"\"\"\n",
    "    # TODO: Implement Function\n",
    "    start_tokens = tf.tile(tf.constant([start_of_sequence_id], dtype=tf.int32), [batch_size], name='start_tokens')\n",
    "    \n",
    "    inference_helper = tf.contrib.seq2seq.GreedyEmbeddingHelper(dec_embeddings, start_tokens, end_of_sequence_id)\n",
    "    \n",
    "    inference_decoder = tf.contrib.seq2seq.BasicDecoder(dec_cell, inference_helper, encoder_state, output_layer)\n",
    "    \n",
    "    inference_decoder_output = tf.contrib.seq2seq.dynamic_decode(inference_decoder, \n",
    "                                      impute_finished=True, \n",
    "                                      maximum_iterations=max_target_sequence_length)[0]\n",
    "    \n",
    "    return inference_decoder_output\n",
    "\n",
    "\n",
    "\n",
    "\"\"\"\n",
    "DON'T MODIFY ANYTHING IN THIS CELL THAT IS BELOW THIS LINE\n",
    "\"\"\"\n",
    "tests.test_decoding_layer_infer(decoding_layer_infer)"
   ]
  },
  {
   "cell_type": "markdown",
   "metadata": {
    "deletable": true,
    "editable": true
   },
   "source": [
    "### Build the Decoding Layer\n",
    "Implement `decoding_layer()` to create a Decoder RNN layer.\n",
    "\n",
    "* Embed the target sequences\n",
    "* Construct the decoder LSTM cell (just like you constructed the encoder cell above)\n",
    "* Create an output layer to map the outputs of the decoder to the elements of our vocabulary\n",
    "* Use the your `decoding_layer_train(encoder_state, dec_cell, dec_embed_input, target_sequence_length, max_target_sequence_length, output_layer, keep_prob)` function to get the training logits.\n",
    "* Use your `decoding_layer_infer(encoder_state, dec_cell, dec_embeddings, start_of_sequence_id, end_of_sequence_id, max_target_sequence_length, vocab_size, output_layer, batch_size, keep_prob)` function to get the inference logits.\n",
    "\n",
    "Note: You'll need to use [tf.variable_scope](https://www.tensorflow.org/api_docs/python/tf/variable_scope) to share variables between training and inference."
   ]
  },
  {
   "cell_type": "code",
   "execution_count": 8,
   "metadata": {
    "collapsed": false,
    "deletable": true,
    "editable": true
   },
   "outputs": [
    {
     "name": "stdout",
     "output_type": "stream",
     "text": [
      "Tests Passed\n"
     ]
    }
   ],
   "source": [
    "def decoding_layer(dec_input, encoder_state,\n",
    "                   target_sequence_length, max_target_sequence_length,\n",
    "                   rnn_size,\n",
    "                   num_layers, target_vocab_to_int, target_vocab_size,\n",
    "                   batch_size, keep_prob, decoding_embedding_size):\n",
    "    \"\"\"\n",
    "    Create decoding layer\n",
    "    :param dec_input: Decoder input\n",
    "    :param encoder_state: Encoder state\n",
    "    :param target_sequence_length: The lengths of each sequence in the target batch\n",
    "    :param max_target_sequence_length: Maximum length of target sequences\n",
    "    :param rnn_size: RNN Size\n",
    "    :param num_layers: Number of layers\n",
    "    :param target_vocab_to_int: Dictionary to go from the target words to an id\n",
    "    :param target_vocab_size: Size of target vocabulary\n",
    "    :param batch_size: The size of the batch\n",
    "    :param keep_prob: Dropout keep probability\n",
    "    :param decoding_embedding_size: Decoding embedding size\n",
    "    :return: Tuple of (Training BasicDecoderOutput, Inference BasicDecoderOutput)\n",
    "    \"\"\"\n",
    "    # TODO: Implement Function\n",
    "    \n",
    "    # embedded target\n",
    "    dec_embeddings = tf.Variable(tf.random_uniform([target_vocab_size, decoding_embedding_size]))\n",
    "    dec_embed_input = tf.nn.embedding_lookup(dec_embeddings, dec_input)\n",
    "    \n",
    "    # construct LSTM cell\n",
    "    def make_cell(rnn_size):\n",
    "        dec_cell = tf.contrib.rnn.LSTMCell(rnn_size, \n",
    "                                           initializer=tf.random_uniform_initializer(-0.1, 0.1, seed=2))\n",
    "        return dec_cell\n",
    "    \n",
    "    dec_cell = tf.contrib.rnn.MultiRNNCell([make_cell(rnn_size) for _ in range(num_layers)])\n",
    "    \n",
    "    # dense layer\n",
    "    output_layer = Dense(target_vocab_size,\n",
    "                         kernel_initializer=tf.truncated_normal_initializer(mean=0.0, stddev=0.1))\n",
    "    \n",
    "    with tf.variable_scope(\"decode\"):\n",
    "        training_decoder_output = decoding_layer_train(encoder_state, dec_cell, \n",
    "                                                       dec_embed_input, target_sequence_length, \n",
    "                                                       max_target_sequence_length, output_layer, keep_prob)\n",
    "        \n",
    "        start_of_sequence_id = target_vocab_to_int['<GO>']\n",
    "        end_of_sequence_id = target_vocab_to_int['<EOS>']\n",
    "        \n",
    "        inference_decoder_output = decoding_layer_infer(encoder_state, dec_cell, \n",
    "                                                        dec_embeddings, start_of_sequence_id, \n",
    "                                                        end_of_sequence_id, max_target_sequence_length, target_vocab_size, \n",
    "                                                        output_layer, batch_size, keep_prob)\n",
    "    \n",
    "    \n",
    "    return training_decoder_output, inference_decoder_output\n",
    "\n",
    "\n",
    "\n",
    "\"\"\"\n",
    "DON'T MODIFY ANYTHING IN THIS CELL THAT IS BELOW THIS LINE\n",
    "\"\"\"\n",
    "tests.test_decoding_layer(decoding_layer)"
   ]
  },
  {
   "cell_type": "markdown",
   "metadata": {
    "deletable": true,
    "editable": true
   },
   "source": [
    "### Build the Neural Network\n",
    "Apply the functions you implemented above to:\n",
    "\n",
    "- Encode the input using your `encoding_layer(rnn_inputs, rnn_size, num_layers, keep_prob,  source_sequence_length, source_vocab_size, encoding_embedding_size)`.\n",
    "- Process target data using your `process_decoder_input(target_data, target_vocab_to_int, batch_size)` function.\n",
    "- Decode the encoded input using your `decoding_layer(dec_input, enc_state, target_sequence_length, max_target_sentence_length, rnn_size, num_layers, target_vocab_to_int, target_vocab_size, batch_size, keep_prob, dec_embedding_size)` function."
   ]
  },
  {
   "cell_type": "code",
   "execution_count": 9,
   "metadata": {
    "collapsed": false,
    "deletable": true,
    "editable": true
   },
   "outputs": [
    {
     "name": "stdout",
     "output_type": "stream",
     "text": [
      "Tests Passed\n"
     ]
    }
   ],
   "source": [
    "def seq2seq_model(input_data, target_data, keep_prob, batch_size,\n",
    "                  source_sequence_length, target_sequence_length,\n",
    "                  max_target_sentence_length,\n",
    "                  source_vocab_size, target_vocab_size,\n",
    "                  enc_embedding_size, dec_embedding_size,\n",
    "                  rnn_size, num_layers, target_vocab_to_int):\n",
    "    \"\"\"\n",
    "    Build the Sequence-to-Sequence part of the neural network\n",
    "    :param input_data: Input placeholder\n",
    "    :param target_data: Target placeholder\n",
    "    :param keep_prob: Dropout keep probability placeholder\n",
    "    :param batch_size: Batch Size\n",
    "    :param source_sequence_length: Sequence Lengths of source sequences in the batch\n",
    "    :param target_sequence_length: Sequence Lengths of target sequences in the batch\n",
    "    :param source_vocab_size: Source vocabulary size\n",
    "    :param target_vocab_size: Target vocabulary size\n",
    "    :param enc_embedding_size: Decoder embedding size\n",
    "    :param dec_embedding_size: Encoder embedding size\n",
    "    :param rnn_size: RNN Size\n",
    "    :param num_layers: Number of layers\n",
    "    :param target_vocab_to_int: Dictionary to go from the target words to an id\n",
    "    :return: Tuple of (Training BasicDecoderOutput, Inference BasicDecoderOutput)\n",
    "    \"\"\"\n",
    "    # TODO: Implement Function\n",
    "    \n",
    "    # get encode state\n",
    "    _, encoding_state = encoding_layer(input_data, rnn_size, num_layers, keep_prob, \n",
    "                                       source_sequence_length, source_vocab_size, enc_embedding_size)\n",
    "    \n",
    "    # prepare target sequence\n",
    "    dec_input = process_decoder_input(target_data, target_vocab_to_int, batch_size)\n",
    "    \n",
    "    # pass encode state and input to decoders\n",
    "    training_decoder_output, inference_decoder_output = decoding_layer(dec_input, encoding_state, \n",
    "                                                                       target_sequence_length, max_target_sentence_length, \n",
    "                                                                       rnn_size, num_layers, target_vocab_to_int, \n",
    "                                                                       target_vocab_size, batch_size, keep_prob, dec_embedding_size)\n",
    "    \n",
    "    \n",
    "    \n",
    "    return training_decoder_output, inference_decoder_output\n",
    "\n",
    "\n",
    "\"\"\"\n",
    "DON'T MODIFY ANYTHING IN THIS CELL THAT IS BELOW THIS LINE\n",
    "\"\"\"\n",
    "tests.test_seq2seq_model(seq2seq_model)"
   ]
  },
  {
   "cell_type": "markdown",
   "metadata": {
    "deletable": true,
    "editable": true
   },
   "source": [
    "## Neural Network Training\n",
    "### Hyperparameters\n",
    "Tune the following parameters:\n",
    "\n",
    "- Set `epochs` to the number of epochs.\n",
    "- Set `batch_size` to the batch size.\n",
    "- Set `rnn_size` to the size of the RNNs.\n",
    "- Set `num_layers` to the number of layers.\n",
    "- Set `encoding_embedding_size` to the size of the embedding for the encoder.\n",
    "- Set `decoding_embedding_size` to the size of the embedding for the decoder.\n",
    "- Set `learning_rate` to the learning rate.\n",
    "- Set `keep_probability` to the Dropout keep probability\n",
    "- Set `display_step` to state how many steps between each debug output statement"
   ]
  },
  {
   "cell_type": "code",
   "execution_count": 17,
   "metadata": {
    "collapsed": true,
    "deletable": true,
    "editable": true
   },
   "outputs": [],
   "source": [
    "# Number of Epochs\n",
    "epochs = 9\n",
    "# Batch Size\n",
    "batch_size = 512\n",
    "# RNN Size\n",
    "rnn_size = 128\n",
    "# Number of Layers\n",
    "num_layers = 2\n",
    "# Embedding Size\n",
    "encoding_embedding_size = 256\n",
    "decoding_embedding_size = 256\n",
    "# Learning Rate\n",
    "learning_rate = 0.001\n",
    "# Dropout Keep Probability\n",
    "keep_probability = 0.8\n",
    "display_step = 20"
   ]
  },
  {
   "cell_type": "markdown",
   "metadata": {
    "deletable": true,
    "editable": true
   },
   "source": [
    "### Build the Graph\n",
    "Build the graph using the neural network you implemented."
   ]
  },
  {
   "cell_type": "code",
   "execution_count": 18,
   "metadata": {
    "collapsed": true,
    "deletable": true,
    "editable": true
   },
   "outputs": [],
   "source": [
    "\"\"\"\n",
    "DON'T MODIFY ANYTHING IN THIS CELL\n",
    "\"\"\"\n",
    "save_path = 'checkpoints/dev'\n",
    "(source_int_text, target_int_text), (source_vocab_to_int, target_vocab_to_int), _ = helper.load_preprocess()\n",
    "max_target_sentence_length = max([len(sentence) for sentence in source_int_text])\n",
    "\n",
    "train_graph = tf.Graph()\n",
    "with train_graph.as_default():\n",
    "    input_data, targets, lr, keep_prob, target_sequence_length, max_target_sequence_length, source_sequence_length = model_inputs()\n",
    "\n",
    "    #sequence_length = tf.placeholder_with_default(max_target_sentence_length, None, name='sequence_length')\n",
    "    input_shape = tf.shape(input_data)\n",
    "\n",
    "    train_logits, inference_logits = seq2seq_model(tf.reverse(input_data, [-1]),\n",
    "                                                   targets,\n",
    "                                                   keep_prob,\n",
    "                                                   batch_size,\n",
    "                                                   source_sequence_length,\n",
    "                                                   target_sequence_length,\n",
    "                                                   max_target_sequence_length,\n",
    "                                                   len(source_vocab_to_int),\n",
    "                                                   len(target_vocab_to_int),\n",
    "                                                   encoding_embedding_size,\n",
    "                                                   decoding_embedding_size,\n",
    "                                                   rnn_size,\n",
    "                                                   num_layers,\n",
    "                                                   target_vocab_to_int)\n",
    "\n",
    "\n",
    "    training_logits = tf.identity(train_logits.rnn_output, name='logits')\n",
    "    inference_logits = tf.identity(inference_logits.sample_id, name='predictions')\n",
    "\n",
    "    masks = tf.sequence_mask(target_sequence_length, max_target_sequence_length, dtype=tf.float32, name='masks')\n",
    "\n",
    "    with tf.name_scope(\"optimization\"):\n",
    "        # Loss function\n",
    "        cost = tf.contrib.seq2seq.sequence_loss(\n",
    "            training_logits,\n",
    "            targets,\n",
    "            masks)\n",
    "\n",
    "        # Optimizer\n",
    "        optimizer = tf.train.AdamOptimizer(lr)\n",
    "\n",
    "        # Gradient Clipping\n",
    "        gradients = optimizer.compute_gradients(cost)\n",
    "        capped_gradients = [(tf.clip_by_value(grad, -1., 1.), var) for grad, var in gradients if grad is not None]\n",
    "        train_op = optimizer.apply_gradients(capped_gradients)\n"
   ]
  },
  {
   "cell_type": "markdown",
   "metadata": {
    "deletable": true,
    "editable": true
   },
   "source": [
    "Batch and pad the source and target sequences"
   ]
  },
  {
   "cell_type": "code",
   "execution_count": 19,
   "metadata": {
    "collapsed": true,
    "deletable": true,
    "editable": true
   },
   "outputs": [],
   "source": [
    "\"\"\"\n",
    "DON'T MODIFY ANYTHING IN THIS CELL\n",
    "\"\"\"\n",
    "def pad_sentence_batch(sentence_batch, pad_int):\n",
    "    \"\"\"Pad sentences with <PAD> so that each sentence of a batch has the same length\"\"\"\n",
    "    max_sentence = max([len(sentence) for sentence in sentence_batch])\n",
    "    return [sentence + [pad_int] * (max_sentence - len(sentence)) for sentence in sentence_batch]\n",
    "\n",
    "\n",
    "def get_batches(sources, targets, batch_size, source_pad_int, target_pad_int):\n",
    "    \"\"\"Batch targets, sources, and the lengths of their sentences together\"\"\"\n",
    "    for batch_i in range(0, len(sources)//batch_size):\n",
    "        start_i = batch_i * batch_size\n",
    "\n",
    "        # Slice the right amount for the batch\n",
    "        sources_batch = sources[start_i:start_i + batch_size]\n",
    "        targets_batch = targets[start_i:start_i + batch_size]\n",
    "\n",
    "        # Pad\n",
    "        pad_sources_batch = np.array(pad_sentence_batch(sources_batch, source_pad_int))\n",
    "        pad_targets_batch = np.array(pad_sentence_batch(targets_batch, target_pad_int))\n",
    "\n",
    "        # Need the lengths for the _lengths parameters\n",
    "        pad_targets_lengths = []\n",
    "        for target in pad_targets_batch:\n",
    "            pad_targets_lengths.append(len(target))\n",
    "\n",
    "        pad_source_lengths = []\n",
    "        for source in pad_sources_batch:\n",
    "            pad_source_lengths.append(len(source))\n",
    "\n",
    "        yield pad_sources_batch, pad_targets_batch, pad_source_lengths, pad_targets_lengths\n"
   ]
  },
  {
   "cell_type": "markdown",
   "metadata": {
    "deletable": true,
    "editable": true
   },
   "source": [
    "### Train\n",
    "Train the neural network on the preprocessed data. If you have a hard time getting a good loss, check the forms to see if anyone is having the same problem."
   ]
  },
  {
   "cell_type": "code",
   "execution_count": 20,
   "metadata": {
    "collapsed": false,
    "deletable": true,
    "editable": true,
    "scrolled": true
   },
   "outputs": [
    {
     "name": "stdout",
     "output_type": "stream",
     "text": [
      "Epoch   0 Batch   20/269 - Train Accuracy: 0.2662, Validation Accuracy: 0.3352, Loss: 3.6377\n",
      "Epoch   0 Batch   40/269 - Train Accuracy: 0.0854, Validation Accuracy: 0.1610, Loss: 3.1264\n",
      "Epoch   0 Batch   60/269 - Train Accuracy: 0.3253, Validation Accuracy: 0.3297, Loss: 2.6998\n",
      "Epoch   0 Batch   80/269 - Train Accuracy: 0.3650, Validation Accuracy: 0.3944, Loss: 2.5282\n",
      "Epoch   0 Batch  100/269 - Train Accuracy: 0.4304, Validation Accuracy: 0.4435, Loss: 2.2961\n",
      "Epoch   0 Batch  120/269 - Train Accuracy: 0.3961, Validation Accuracy: 0.4600, Loss: 2.2215\n",
      "Epoch   0 Batch  140/269 - Train Accuracy: 0.4481, Validation Accuracy: 0.4737, Loss: 1.9189\n",
      "Epoch   0 Batch  160/269 - Train Accuracy: 0.4477, Validation Accuracy: 0.4822, Loss: 1.7430\n",
      "Epoch   0 Batch  180/269 - Train Accuracy: 0.4605, Validation Accuracy: 0.4903, Loss: 1.5925\n",
      "Epoch   0 Batch  200/269 - Train Accuracy: 0.4428, Validation Accuracy: 0.4846, Loss: 1.5222\n",
      "Epoch   0 Batch  220/269 - Train Accuracy: 0.4683, Validation Accuracy: 0.4875, Loss: 1.3100\n",
      "Epoch   0 Batch  240/269 - Train Accuracy: 0.4968, Validation Accuracy: 0.4854, Loss: 1.1796\n",
      "Epoch   0 Batch  260/269 - Train Accuracy: 0.4535, Validation Accuracy: 0.4921, Loss: 1.2360\n",
      "Epoch   1 Batch   20/269 - Train Accuracy: 0.4620, Validation Accuracy: 0.5105, Loss: 1.1099\n",
      "Epoch   1 Batch   40/269 - Train Accuracy: 0.4901, Validation Accuracy: 0.5083, Loss: 1.0301\n",
      "Epoch   1 Batch   60/269 - Train Accuracy: 0.5455, Validation Accuracy: 0.5508, Loss: 0.9016\n",
      "Epoch   1 Batch   80/269 - Train Accuracy: 0.5565, Validation Accuracy: 0.5583, Loss: 0.8841\n",
      "Epoch   1 Batch  100/269 - Train Accuracy: 0.5839, Validation Accuracy: 0.5826, Loss: 0.8394\n",
      "Epoch   1 Batch  120/269 - Train Accuracy: 0.5510, Validation Accuracy: 0.5851, Loss: 0.8369\n",
      "Epoch   1 Batch  140/269 - Train Accuracy: 0.5816, Validation Accuracy: 0.5812, Loss: 0.7830\n",
      "Epoch   1 Batch  160/269 - Train Accuracy: 0.5868, Validation Accuracy: 0.5947, Loss: 0.7523\n",
      "Epoch   1 Batch  180/269 - Train Accuracy: 0.5932, Validation Accuracy: 0.5962, Loss: 0.7182\n",
      "Epoch   1 Batch  200/269 - Train Accuracy: 0.5802, Validation Accuracy: 0.5956, Loss: 0.7258\n",
      "Epoch   1 Batch  220/269 - Train Accuracy: 0.6077, Validation Accuracy: 0.6053, Loss: 0.6454\n",
      "Epoch   1 Batch  240/269 - Train Accuracy: 0.6393, Validation Accuracy: 0.6129, Loss: 0.6082\n",
      "Epoch   1 Batch  260/269 - Train Accuracy: 0.6038, Validation Accuracy: 0.6230, Loss: 0.6810\n",
      "Epoch   2 Batch   20/269 - Train Accuracy: 0.6127, Validation Accuracy: 0.6167, Loss: 0.6514\n",
      "Epoch   2 Batch   40/269 - Train Accuracy: 0.6109, Validation Accuracy: 0.6278, Loss: 0.6455\n",
      "Epoch   2 Batch   60/269 - Train Accuracy: 0.6541, Validation Accuracy: 0.6338, Loss: 0.5759\n",
      "Epoch   2 Batch   80/269 - Train Accuracy: 0.6453, Validation Accuracy: 0.6359, Loss: 0.5934\n",
      "Epoch   2 Batch  100/269 - Train Accuracy: 0.6607, Validation Accuracy: 0.6406, Loss: 0.5765\n",
      "Epoch   2 Batch  120/269 - Train Accuracy: 0.6515, Validation Accuracy: 0.6541, Loss: 0.5888\n",
      "Epoch   2 Batch  140/269 - Train Accuracy: 0.6720, Validation Accuracy: 0.6685, Loss: 0.5744\n",
      "Epoch   2 Batch  160/269 - Train Accuracy: 0.6675, Validation Accuracy: 0.6712, Loss: 0.5440\n",
      "Epoch   2 Batch  180/269 - Train Accuracy: 0.6771, Validation Accuracy: 0.6696, Loss: 0.5364\n",
      "Epoch   2 Batch  200/269 - Train Accuracy: 0.6674, Validation Accuracy: 0.6772, Loss: 0.5447\n",
      "Epoch   2 Batch  220/269 - Train Accuracy: 0.6906, Validation Accuracy: 0.6787, Loss: 0.4891\n",
      "Epoch   2 Batch  240/269 - Train Accuracy: 0.7171, Validation Accuracy: 0.6922, Loss: 0.4630\n",
      "Epoch   2 Batch  260/269 - Train Accuracy: 0.6741, Validation Accuracy: 0.6870, Loss: 0.5246\n",
      "Epoch   3 Batch   20/269 - Train Accuracy: 0.6980, Validation Accuracy: 0.6895, Loss: 0.5002\n",
      "Epoch   3 Batch   40/269 - Train Accuracy: 0.6832, Validation Accuracy: 0.6904, Loss: 0.5000\n",
      "Epoch   3 Batch   60/269 - Train Accuracy: 0.7194, Validation Accuracy: 0.7014, Loss: 0.4430\n",
      "Epoch   3 Batch   80/269 - Train Accuracy: 0.7347, Validation Accuracy: 0.7082, Loss: 0.4489\n",
      "Epoch   3 Batch  100/269 - Train Accuracy: 0.7448, Validation Accuracy: 0.7111, Loss: 0.4329\n",
      "Epoch   3 Batch  120/269 - Train Accuracy: 0.7206, Validation Accuracy: 0.7200, Loss: 0.4483\n",
      "Epoch   3 Batch  140/269 - Train Accuracy: 0.7371, Validation Accuracy: 0.7205, Loss: 0.4337\n",
      "Epoch   3 Batch  160/269 - Train Accuracy: 0.7378, Validation Accuracy: 0.7232, Loss: 0.4138\n",
      "Epoch   3 Batch  180/269 - Train Accuracy: 0.7527, Validation Accuracy: 0.7327, Loss: 0.4068\n",
      "Epoch   3 Batch  200/269 - Train Accuracy: 0.7327, Validation Accuracy: 0.7326, Loss: 0.4111\n",
      "Epoch   3 Batch  220/269 - Train Accuracy: 0.7534, Validation Accuracy: 0.7451, Loss: 0.3733\n",
      "Epoch   3 Batch  240/269 - Train Accuracy: 0.7798, Validation Accuracy: 0.7502, Loss: 0.3491\n",
      "Epoch   3 Batch  260/269 - Train Accuracy: 0.7452, Validation Accuracy: 0.7540, Loss: 0.3966\n",
      "Epoch   4 Batch   20/269 - Train Accuracy: 0.7591, Validation Accuracy: 0.7643, Loss: 0.3748\n",
      "Epoch   4 Batch   40/269 - Train Accuracy: 0.7656, Validation Accuracy: 0.7793, Loss: 0.3719\n",
      "Epoch   4 Batch   60/269 - Train Accuracy: 0.7772, Validation Accuracy: 0.7624, Loss: 0.3387\n",
      "Epoch   4 Batch   80/269 - Train Accuracy: 0.8000, Validation Accuracy: 0.7828, Loss: 0.3311\n",
      "Epoch   4 Batch  100/269 - Train Accuracy: 0.8025, Validation Accuracy: 0.7889, Loss: 0.3204\n",
      "Epoch   4 Batch  120/269 - Train Accuracy: 0.7794, Validation Accuracy: 0.7805, Loss: 0.3343\n",
      "Epoch   4 Batch  140/269 - Train Accuracy: 0.7945, Validation Accuracy: 0.7971, Loss: 0.3205\n",
      "Epoch   4 Batch  160/269 - Train Accuracy: 0.8035, Validation Accuracy: 0.7990, Loss: 0.3043\n",
      "Epoch   4 Batch  180/269 - Train Accuracy: 0.8248, Validation Accuracy: 0.8074, Loss: 0.2932\n",
      "Epoch   4 Batch  200/269 - Train Accuracy: 0.8131, Validation Accuracy: 0.8048, Loss: 0.3011\n",
      "Epoch   4 Batch  220/269 - Train Accuracy: 0.8276, Validation Accuracy: 0.8151, Loss: 0.2689\n",
      "Epoch   4 Batch  240/269 - Train Accuracy: 0.8354, Validation Accuracy: 0.8180, Loss: 0.2521\n",
      "Epoch   4 Batch  260/269 - Train Accuracy: 0.8144, Validation Accuracy: 0.8184, Loss: 0.2827\n",
      "Epoch   5 Batch   20/269 - Train Accuracy: 0.8205, Validation Accuracy: 0.8230, Loss: 0.2769\n",
      "Epoch   5 Batch   40/269 - Train Accuracy: 0.8242, Validation Accuracy: 0.8308, Loss: 0.2725\n",
      "Epoch   5 Batch   60/269 - Train Accuracy: 0.8401, Validation Accuracy: 0.8277, Loss: 0.2408\n",
      "Epoch   5 Batch   80/269 - Train Accuracy: 0.8431, Validation Accuracy: 0.8423, Loss: 0.2375\n",
      "Epoch   5 Batch  100/269 - Train Accuracy: 0.8411, Validation Accuracy: 0.8370, Loss: 0.2315\n",
      "Epoch   5 Batch  120/269 - Train Accuracy: 0.8438, Validation Accuracy: 0.8398, Loss: 0.2413\n",
      "Epoch   5 Batch  140/269 - Train Accuracy: 0.8439, Validation Accuracy: 0.8388, Loss: 0.2336\n",
      "Epoch   5 Batch  160/269 - Train Accuracy: 0.8426, Validation Accuracy: 0.8496, Loss: 0.2169\n",
      "Epoch   5 Batch  180/269 - Train Accuracy: 0.8610, Validation Accuracy: 0.8477, Loss: 0.2213\n",
      "Epoch   5 Batch  200/269 - Train Accuracy: 0.8516, Validation Accuracy: 0.8518, Loss: 0.2168\n",
      "Epoch   5 Batch  220/269 - Train Accuracy: 0.8640, Validation Accuracy: 0.8518, Loss: 0.1965\n",
      "Epoch   5 Batch  240/269 - Train Accuracy: 0.8713, Validation Accuracy: 0.8607, Loss: 0.1849\n",
      "Epoch   5 Batch  260/269 - Train Accuracy: 0.8525, Validation Accuracy: 0.8573, Loss: 0.2094\n",
      "Epoch   6 Batch   20/269 - Train Accuracy: 0.8625, Validation Accuracy: 0.8658, Loss: 0.1984\n",
      "Epoch   6 Batch   40/269 - Train Accuracy: 0.8531, Validation Accuracy: 0.8725, Loss: 0.2006\n",
      "Epoch   6 Batch   60/269 - Train Accuracy: 0.8755, Validation Accuracy: 0.8732, Loss: 0.1779\n",
      "Epoch   6 Batch   80/269 - Train Accuracy: 0.8880, Validation Accuracy: 0.8795, Loss: 0.1831\n",
      "Epoch   6 Batch  100/269 - Train Accuracy: 0.8712, Validation Accuracy: 0.8724, Loss: 0.1724\n",
      "Epoch   6 Batch  120/269 - Train Accuracy: 0.8814, Validation Accuracy: 0.8855, Loss: 0.1770\n",
      "Epoch   6 Batch  140/269 - Train Accuracy: 0.8715, Validation Accuracy: 0.8894, Loss: 0.1779\n",
      "Epoch   6 Batch  160/269 - Train Accuracy: 0.8680, Validation Accuracy: 0.8817, Loss: 0.1668\n",
      "Epoch   6 Batch  180/269 - Train Accuracy: 0.8841, Validation Accuracy: 0.8793, Loss: 0.1663\n",
      "Epoch   6 Batch  200/269 - Train Accuracy: 0.8773, Validation Accuracy: 0.8893, Loss: 0.1669\n",
      "Epoch   6 Batch  220/269 - Train Accuracy: 0.8846, Validation Accuracy: 0.8828, Loss: 0.1485\n",
      "Epoch   6 Batch  240/269 - Train Accuracy: 0.9010, Validation Accuracy: 0.8933, Loss: 0.1381\n",
      "Epoch   6 Batch  260/269 - Train Accuracy: 0.8770, Validation Accuracy: 0.8984, Loss: 0.1610\n",
      "Epoch   7 Batch   20/269 - Train Accuracy: 0.8946, Validation Accuracy: 0.9015, Loss: 0.1555\n",
      "Epoch   7 Batch   40/269 - Train Accuracy: 0.8824, Validation Accuracy: 0.8961, Loss: 0.1582\n",
      "Epoch   7 Batch   60/269 - Train Accuracy: 0.9007, Validation Accuracy: 0.9049, Loss: 0.1389\n",
      "Epoch   7 Batch   80/269 - Train Accuracy: 0.9007, Validation Accuracy: 0.9086, Loss: 0.1430\n",
      "Epoch   7 Batch  100/269 - Train Accuracy: 0.8995, Validation Accuracy: 0.9022, Loss: 0.1423\n",
      "Epoch   7 Batch  120/269 - Train Accuracy: 0.9051, Validation Accuracy: 0.9034, Loss: 0.1457\n",
      "Epoch   7 Batch  140/269 - Train Accuracy: 0.8992, Validation Accuracy: 0.9123, Loss: 0.1395\n",
      "Epoch   7 Batch  160/269 - Train Accuracy: 0.8996, Validation Accuracy: 0.9099, Loss: 0.1257\n",
      "Epoch   7 Batch  180/269 - Train Accuracy: 0.9068, Validation Accuracy: 0.9107, Loss: 0.1266\n",
      "Epoch   7 Batch  200/269 - Train Accuracy: 0.9050, Validation Accuracy: 0.9057, Loss: 0.1228\n",
      "Epoch   7 Batch  220/269 - Train Accuracy: 0.8939, Validation Accuracy: 0.9035, Loss: 0.1132\n",
      "Epoch   7 Batch  240/269 - Train Accuracy: 0.9214, Validation Accuracy: 0.9152, Loss: 0.1031\n",
      "Epoch   7 Batch  260/269 - Train Accuracy: 0.9002, Validation Accuracy: 0.9236, Loss: 0.1214\n",
      "Epoch   8 Batch   20/269 - Train Accuracy: 0.9133, Validation Accuracy: 0.9199, Loss: 0.1107\n",
      "Epoch   8 Batch   40/269 - Train Accuracy: 0.9035, Validation Accuracy: 0.9260, Loss: 0.1105\n",
      "Epoch   8 Batch   60/269 - Train Accuracy: 0.9162, Validation Accuracy: 0.9223, Loss: 0.0983\n",
      "Epoch   8 Batch   80/269 - Train Accuracy: 0.9342, Validation Accuracy: 0.9221, Loss: 0.0953\n",
      "Epoch   8 Batch  100/269 - Train Accuracy: 0.9292, Validation Accuracy: 0.9237, Loss: 0.0996\n",
      "Epoch   8 Batch  120/269 - Train Accuracy: 0.9270, Validation Accuracy: 0.9207, Loss: 0.0959\n",
      "Epoch   8 Batch  140/269 - Train Accuracy: 0.9175, Validation Accuracy: 0.9366, Loss: 0.0942\n",
      "Epoch   8 Batch  160/269 - Train Accuracy: 0.9245, Validation Accuracy: 0.9369, Loss: 0.0818\n",
      "Epoch   8 Batch  180/269 - Train Accuracy: 0.9266, Validation Accuracy: 0.9282, Loss: 0.0873\n",
      "Epoch   8 Batch  200/269 - Train Accuracy: 0.9176, Validation Accuracy: 0.9223, Loss: 0.0845\n",
      "Epoch   8 Batch  220/269 - Train Accuracy: 0.9371, Validation Accuracy: 0.9350, Loss: 0.0696\n",
      "Epoch   8 Batch  240/269 - Train Accuracy: 0.9450, Validation Accuracy: 0.9431, Loss: 0.0661\n",
      "Epoch   8 Batch  260/269 - Train Accuracy: 0.9244, Validation Accuracy: 0.9399, Loss: 0.0790\n",
      "Model Trained and Saved\n"
     ]
    }
   ],
   "source": [
    "\"\"\"\n",
    "DON'T MODIFY ANYTHING IN THIS CELL\n",
    "\"\"\"\n",
    "def get_accuracy(target, logits):\n",
    "    \"\"\"\n",
    "    Calculate accuracy\n",
    "    \"\"\"\n",
    "    max_seq = max(target.shape[1], logits.shape[1])\n",
    "    if max_seq - target.shape[1]:\n",
    "        target = np.pad(\n",
    "            target,\n",
    "            [(0,0),(0,max_seq - target.shape[1])],\n",
    "            'constant')\n",
    "    if max_seq - logits.shape[1]:\n",
    "        logits = np.pad(\n",
    "            logits,\n",
    "            [(0,0),(0,max_seq - logits.shape[1])],\n",
    "            'constant')\n",
    "\n",
    "    return np.mean(np.equal(target, logits))\n",
    "\n",
    "# Split data to training and validation sets\n",
    "train_source = source_int_text[batch_size:]\n",
    "train_target = target_int_text[batch_size:]\n",
    "valid_source = source_int_text[:batch_size]\n",
    "valid_target = target_int_text[:batch_size]\n",
    "(valid_sources_batch, valid_targets_batch, valid_sources_lengths, valid_targets_lengths ) = next(get_batches(valid_source,\n",
    "                                                                                                             valid_target,\n",
    "                                                                                                             batch_size,\n",
    "                                                                                                             source_vocab_to_int['<PAD>'],\n",
    "                                                                                                             target_vocab_to_int['<PAD>']))                                                                                                  \n",
    "with tf.Session(graph=train_graph) as sess:\n",
    "    sess.run(tf.global_variables_initializer())\n",
    "\n",
    "    for epoch_i in range(epochs):\n",
    "        for batch_i, (source_batch, target_batch, sources_lengths, targets_lengths) in enumerate(\n",
    "                get_batches(train_source, train_target, batch_size,\n",
    "                            source_vocab_to_int['<PAD>'],\n",
    "                            target_vocab_to_int['<PAD>'])):\n",
    "\n",
    "            _, loss = sess.run(\n",
    "                [train_op, cost],\n",
    "                {input_data: source_batch,\n",
    "                 targets: target_batch,\n",
    "                 lr: learning_rate,\n",
    "                 target_sequence_length: targets_lengths,\n",
    "                 source_sequence_length: sources_lengths,\n",
    "                 keep_prob: keep_probability})\n",
    "\n",
    "\n",
    "            if batch_i % display_step == 0 and batch_i > 0:\n",
    "\n",
    "\n",
    "                batch_train_logits = sess.run(\n",
    "                    inference_logits,\n",
    "                    {input_data: source_batch,\n",
    "                     source_sequence_length: sources_lengths,\n",
    "                     target_sequence_length: targets_lengths,\n",
    "                     keep_prob: 1.0})\n",
    "\n",
    "\n",
    "                batch_valid_logits = sess.run(\n",
    "                    inference_logits,\n",
    "                    {input_data: valid_sources_batch,\n",
    "                     source_sequence_length: valid_sources_lengths,\n",
    "                     target_sequence_length: valid_targets_lengths,\n",
    "                     keep_prob: 1.0})\n",
    "\n",
    "                train_acc = get_accuracy(target_batch, batch_train_logits)\n",
    "\n",
    "                valid_acc = get_accuracy(valid_targets_batch, batch_valid_logits)\n",
    "\n",
    "                print('Epoch {:>3} Batch {:>4}/{} - Train Accuracy: {:>6.4f}, Validation Accuracy: {:>6.4f}, Loss: {:>6.4f}'\n",
    "                      .format(epoch_i, batch_i, len(source_int_text) // batch_size, train_acc, valid_acc, loss))\n",
    "\n",
    "    # Save Model\n",
    "    saver = tf.train.Saver()\n",
    "    saver.save(sess, save_path)\n",
    "    print('Model Trained and Saved')"
   ]
  },
  {
   "cell_type": "markdown",
   "metadata": {
    "deletable": true,
    "editable": true
   },
   "source": [
    "### Save Parameters\n",
    "Save the `batch_size` and `save_path` parameters for inference."
   ]
  },
  {
   "cell_type": "code",
   "execution_count": 21,
   "metadata": {
    "collapsed": true,
    "deletable": true,
    "editable": true
   },
   "outputs": [],
   "source": [
    "\"\"\"\n",
    "DON'T MODIFY ANYTHING IN THIS CELL\n",
    "\"\"\"\n",
    "# Save parameters for checkpoint\n",
    "helper.save_params(save_path)"
   ]
  },
  {
   "cell_type": "markdown",
   "metadata": {
    "deletable": true,
    "editable": true
   },
   "source": [
    "# Checkpoint"
   ]
  },
  {
   "cell_type": "code",
   "execution_count": 22,
   "metadata": {
    "collapsed": true,
    "deletable": true,
    "editable": true
   },
   "outputs": [],
   "source": [
    "\"\"\"\n",
    "DON'T MODIFY ANYTHING IN THIS CELL\n",
    "\"\"\"\n",
    "import tensorflow as tf\n",
    "import numpy as np\n",
    "import helper\n",
    "import problem_unittests as tests\n",
    "\n",
    "_, (source_vocab_to_int, target_vocab_to_int), (source_int_to_vocab, target_int_to_vocab) = helper.load_preprocess()\n",
    "load_path = helper.load_params()"
   ]
  },
  {
   "cell_type": "markdown",
   "metadata": {
    "deletable": true,
    "editable": true
   },
   "source": [
    "## Sentence to Sequence\n",
    "To feed a sentence into the model for translation, you first need to preprocess it.  Implement the function `sentence_to_seq()` to preprocess new sentences.\n",
    "\n",
    "- Convert the sentence to lowercase\n",
    "- Convert words into ids using `vocab_to_int`\n",
    " - Convert words not in the vocabulary, to the `<UNK>` word id."
   ]
  },
  {
   "cell_type": "code",
   "execution_count": 26,
   "metadata": {
    "collapsed": false,
    "deletable": true,
    "editable": true
   },
   "outputs": [
    {
     "name": "stdout",
     "output_type": "stream",
     "text": [
      "Tests Passed\n"
     ]
    }
   ],
   "source": [
    "def sentence_to_seq(sentence, vocab_to_int):\n",
    "    \"\"\"\n",
    "    Convert a sentence to a sequence of ids\n",
    "    :param sentence: String\n",
    "    :param vocab_to_int: Dictionary to go from the words to an id\n",
    "    :return: List of word ids\n",
    "    \"\"\"\n",
    "    # TODO: Implement Function\n",
    "    unkown_id = vocab_to_int['<UNK>']\n",
    "    \n",
    "    infer_input = [vocab_to_int.get(word.lower(), unkown_id) for word in sentence.split()]\n",
    "    \n",
    "    return infer_input\n",
    "\n",
    "\n",
    "\"\"\"\n",
    "DON'T MODIFY ANYTHING IN THIS CELL THAT IS BELOW THIS LINE\n",
    "\"\"\"\n",
    "tests.test_sentence_to_seq(sentence_to_seq)"
   ]
  },
  {
   "cell_type": "markdown",
   "metadata": {
    "deletable": true,
    "editable": true
   },
   "source": [
    "## Translate\n",
    "This will translate `translate_sentence` from English to French."
   ]
  },
  {
   "cell_type": "code",
   "execution_count": 27,
   "metadata": {
    "collapsed": false,
    "deletable": true,
    "editable": true
   },
   "outputs": [
    {
     "name": "stdout",
     "output_type": "stream",
     "text": [
      "INFO:tensorflow:Restoring parameters from checkpoints/dev\n",
      "Input\n",
      "  Word Ids:      [199, 102, 208, 6, 118, 13, 165]\n",
      "  English Words: ['he', 'saw', 'a', 'old', 'yellow', 'truck', '.']\n",
      "\n",
      "Prediction\n",
      "  Word Ids:      [135, 47, 282, 52, 164, 180, 264, 135, 47, 270, 196, 312, 61, 1]\n",
      "  French Words: il est généralement au printemps , mais il est pluvieux en juillet . <EOS>\n"
     ]
    }
   ],
   "source": [
    "translate_sentence = 'he saw a old yellow truck .'\n",
    "\n",
    "\n",
    "\"\"\"\n",
    "DON'T MODIFY ANYTHING IN THIS CELL\n",
    "\"\"\"\n",
    "translate_sentence = sentence_to_seq(translate_sentence, source_vocab_to_int)\n",
    "\n",
    "loaded_graph = tf.Graph()\n",
    "with tf.Session(graph=loaded_graph) as sess:\n",
    "    # Load saved model\n",
    "    loader = tf.train.import_meta_graph(load_path + '.meta')\n",
    "    loader.restore(sess, load_path)\n",
    "\n",
    "    input_data = loaded_graph.get_tensor_by_name('input:0')\n",
    "    logits = loaded_graph.get_tensor_by_name('predictions:0')\n",
    "    target_sequence_length = loaded_graph.get_tensor_by_name('target_sequence_length:0')\n",
    "    source_sequence_length = loaded_graph.get_tensor_by_name('source_sequence_length:0')\n",
    "    keep_prob = loaded_graph.get_tensor_by_name('keep_prob:0')\n",
    "\n",
    "    translate_logits = sess.run(logits, {input_data: [translate_sentence]*batch_size,\n",
    "                                         target_sequence_length: [len(translate_sentence)*2]*batch_size,\n",
    "                                         source_sequence_length: [len(translate_sentence)]*batch_size,\n",
    "                                         keep_prob: 1.0})[0]\n",
    "\n",
    "print('Input')\n",
    "print('  Word Ids:      {}'.format([i for i in translate_sentence]))\n",
    "print('  English Words: {}'.format([source_int_to_vocab[i] for i in translate_sentence]))\n",
    "\n",
    "print('\\nPrediction')\n",
    "print('  Word Ids:      {}'.format([i for i in translate_logits]))\n",
    "print('  French Words: {}'.format(\" \".join([target_int_to_vocab[i] for i in translate_logits])))\n"
   ]
  },
  {
   "cell_type": "markdown",
   "metadata": {
    "deletable": true,
    "editable": true
   },
   "source": [
    "## Imperfect Translation\n",
    "You might notice that some sentences translate better than others.  Since the dataset you're using only has a vocabulary of 227 English words of the thousands that you use, you're only going to see good results using these words.  For this project, you don't need a perfect translation. However, if you want to create a better translation model, you'll need better data.\n",
    "\n",
    "You can train on the [WMT10 French-English corpus](http://www.statmt.org/wmt10/training-giga-fren.tar).  This dataset has more vocabulary and richer in topics discussed.  However, this will take you days to train, so make sure you've a GPU and the neural network is performing well on dataset we provided.  Just make sure you play with the WMT10 corpus after you've submitted this project.\n",
    "## Submitting This Project\n",
    "When submitting this project, make sure to run all the cells before saving the notebook. Save the notebook file as \"dlnd_language_translation.ipynb\" and save it as a HTML file under \"File\" -> \"Download as\". Include the \"helper.py\" and \"problem_unittests.py\" files in your submission."
   ]
  }
 ],
 "metadata": {
  "anaconda-cloud": {},
  "kernelspec": {
   "display_name": "Python 3",
   "language": "python",
   "name": "python3"
  },
  "language_info": {
   "codemirror_mode": {
    "name": "ipython",
    "version": 3
   },
   "file_extension": ".py",
   "mimetype": "text/x-python",
   "name": "python",
   "nbconvert_exporter": "python",
   "pygments_lexer": "ipython3",
   "version": "3.5.2"
  },
  "widgets": {
   "state": {},
   "version": "1.1.2"
  }
 },
 "nbformat": 4,
 "nbformat_minor": 1
}
